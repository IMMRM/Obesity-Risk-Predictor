{
 "cells": [
  {
   "cell_type": "code",
   "execution_count": 81,
   "metadata": {},
   "outputs": [],
   "source": [
    "#Let's train some models on this data"
   ]
  },
  {
   "cell_type": "code",
   "execution_count": 104,
   "metadata": {},
   "outputs": [],
   "source": [
    "import pandas as pd\n",
    "import numpy as np\n",
    "import os\n",
    "import sys \n",
    "sys.path.append(os.path.dirname(os.getcwd()))\n",
    "import warnings\n",
    "import config as cfg\n",
    "from sklearn.linear_model import LogisticRegression #importing for Logistic regression\n",
    "from sklearn.svm import SVC\n",
    "from sklearn.multiclass import OneVsRestClassifier\n",
    "from sklearn.ensemble import RandomForestClassifier\n",
    "from sklearn.preprocessing import StandardScaler\n",
    "import xgboost as xgb\n",
    "from sklearn.model_selection import train_test_split\n",
    "import random\n",
    "import lightgbm as lgb\n",
    "from sklearn.metrics import accuracy_score\n",
    "import tensorflow as tf\n",
    "from tensorflow.keras.models import Sequential\n",
    "from tensorflow.keras.layers import Dense\n",
    "import joblib\n",
    "\n",
    "warnings.filterwarnings(\"ignore\")\n"
   ]
  },
  {
   "cell_type": "code",
   "execution_count": 83,
   "metadata": {},
   "outputs": [
    {
     "data": {
      "text/html": [
       "<div>\n",
       "<style scoped>\n",
       "    .dataframe tbody tr th:only-of-type {\n",
       "        vertical-align: middle;\n",
       "    }\n",
       "\n",
       "    .dataframe tbody tr th {\n",
       "        vertical-align: top;\n",
       "    }\n",
       "\n",
       "    .dataframe thead th {\n",
       "        text-align: right;\n",
       "    }\n",
       "</style>\n",
       "<table border=\"1\" class=\"dataframe\">\n",
       "  <thead>\n",
       "    <tr style=\"text-align: right;\">\n",
       "      <th></th>\n",
       "      <th>FCVC</th>\n",
       "      <th>NCP</th>\n",
       "      <th>CH2O</th>\n",
       "      <th>FAF</th>\n",
       "      <th>TUE</th>\n",
       "      <th>BMI</th>\n",
       "      <th>Target</th>\n",
       "      <th>Gender_Male</th>\n",
       "      <th>family_history_with_overweight_yes</th>\n",
       "      <th>FAVC_yes</th>\n",
       "      <th>...</th>\n",
       "      <th>CAEC_no</th>\n",
       "      <th>SMOKE_yes</th>\n",
       "      <th>SCC_yes</th>\n",
       "      <th>CALC_Sometimes</th>\n",
       "      <th>CALC_no</th>\n",
       "      <th>MTRANS_Bike</th>\n",
       "      <th>MTRANS_Motorbike</th>\n",
       "      <th>MTRANS_Public_Transportation</th>\n",
       "      <th>MTRANS_Walking</th>\n",
       "      <th>log_age</th>\n",
       "    </tr>\n",
       "  </thead>\n",
       "  <tbody>\n",
       "    <tr>\n",
       "      <th>0</th>\n",
       "      <td>2.000000</td>\n",
       "      <td>2.983297</td>\n",
       "      <td>2.763573</td>\n",
       "      <td>0.000000</td>\n",
       "      <td>0.976473</td>\n",
       "      <td>28.259565</td>\n",
       "      <td>6</td>\n",
       "      <td>True</td>\n",
       "      <td>True</td>\n",
       "      <td>True</td>\n",
       "      <td>...</td>\n",
       "      <td>False</td>\n",
       "      <td>False</td>\n",
       "      <td>False</td>\n",
       "      <td>True</td>\n",
       "      <td>False</td>\n",
       "      <td>False</td>\n",
       "      <td>False</td>\n",
       "      <td>True</td>\n",
       "      <td>False</td>\n",
       "      <td>3.196344</td>\n",
       "    </tr>\n",
       "    <tr>\n",
       "      <th>1</th>\n",
       "      <td>2.000000</td>\n",
       "      <td>3.000000</td>\n",
       "      <td>2.000000</td>\n",
       "      <td>1.000000</td>\n",
       "      <td>1.000000</td>\n",
       "      <td>23.422091</td>\n",
       "      <td>1</td>\n",
       "      <td>False</td>\n",
       "      <td>True</td>\n",
       "      <td>True</td>\n",
       "      <td>...</td>\n",
       "      <td>False</td>\n",
       "      <td>False</td>\n",
       "      <td>False</td>\n",
       "      <td>False</td>\n",
       "      <td>True</td>\n",
       "      <td>False</td>\n",
       "      <td>False</td>\n",
       "      <td>False</td>\n",
       "      <td>False</td>\n",
       "      <td>2.890372</td>\n",
       "    </tr>\n",
       "    <tr>\n",
       "      <th>2</th>\n",
       "      <td>1.880534</td>\n",
       "      <td>1.411685</td>\n",
       "      <td>1.910378</td>\n",
       "      <td>0.866045</td>\n",
       "      <td>1.673584</td>\n",
       "      <td>17.126706</td>\n",
       "      <td>0</td>\n",
       "      <td>False</td>\n",
       "      <td>True</td>\n",
       "      <td>True</td>\n",
       "      <td>...</td>\n",
       "      <td>False</td>\n",
       "      <td>False</td>\n",
       "      <td>False</td>\n",
       "      <td>False</td>\n",
       "      <td>True</td>\n",
       "      <td>False</td>\n",
       "      <td>False</td>\n",
       "      <td>True</td>\n",
       "      <td>False</td>\n",
       "      <td>2.890372</td>\n",
       "    </tr>\n",
       "    <tr>\n",
       "      <th>3</th>\n",
       "      <td>3.000000</td>\n",
       "      <td>3.000000</td>\n",
       "      <td>1.674061</td>\n",
       "      <td>1.467863</td>\n",
       "      <td>0.780199</td>\n",
       "      <td>44.855798</td>\n",
       "      <td>4</td>\n",
       "      <td>False</td>\n",
       "      <td>True</td>\n",
       "      <td>True</td>\n",
       "      <td>...</td>\n",
       "      <td>False</td>\n",
       "      <td>False</td>\n",
       "      <td>False</td>\n",
       "      <td>True</td>\n",
       "      <td>False</td>\n",
       "      <td>False</td>\n",
       "      <td>False</td>\n",
       "      <td>True</td>\n",
       "      <td>False</td>\n",
       "      <td>3.042269</td>\n",
       "    </tr>\n",
       "  </tbody>\n",
       "</table>\n",
       "<p>4 rows × 22 columns</p>\n",
       "</div>"
      ],
      "text/plain": [
       "       FCVC       NCP      CH2O       FAF       TUE        BMI  Target  \\\n",
       "0  2.000000  2.983297  2.763573  0.000000  0.976473  28.259565       6   \n",
       "1  2.000000  3.000000  2.000000  1.000000  1.000000  23.422091       1   \n",
       "2  1.880534  1.411685  1.910378  0.866045  1.673584  17.126706       0   \n",
       "3  3.000000  3.000000  1.674061  1.467863  0.780199  44.855798       4   \n",
       "\n",
       "   Gender_Male  family_history_with_overweight_yes  FAVC_yes  ...  CAEC_no  \\\n",
       "0         True                                True      True  ...    False   \n",
       "1        False                                True      True  ...    False   \n",
       "2        False                                True      True  ...    False   \n",
       "3        False                                True      True  ...    False   \n",
       "\n",
       "   SMOKE_yes  SCC_yes  CALC_Sometimes  CALC_no  MTRANS_Bike  MTRANS_Motorbike  \\\n",
       "0      False    False            True    False        False             False   \n",
       "1      False    False           False     True        False             False   \n",
       "2      False    False           False     True        False             False   \n",
       "3      False    False            True    False        False             False   \n",
       "\n",
       "   MTRANS_Public_Transportation  MTRANS_Walking   log_age  \n",
       "0                          True           False  3.196344  \n",
       "1                         False           False  2.890372  \n",
       "2                          True           False  2.890372  \n",
       "3                          True           False  3.042269  \n",
       "\n",
       "[4 rows x 22 columns]"
      ]
     },
     "execution_count": 83,
     "metadata": {},
     "output_type": "execute_result"
    }
   ],
   "source": [
    "#importing libraries\n",
    "data_df=pd.read_csv(cfg.input+\"pre_processed.csv\",index_col=0)\n",
    "data_df.head(4)"
   ]
  },
  {
   "cell_type": "code",
   "execution_count": 84,
   "metadata": {},
   "outputs": [],
   "source": [
    "#splitting the data\n",
    "scale=StandardScaler()\n",
    "\n",
    "X,Y=data_df.drop('Target',axis=1),data_df['Target']\n",
    "X_train,X_test,Y_train,Y_test=train_test_split(X,Y,test_size=0.2)\n",
    "X_train=scale.fit_transform(X_train)\n",
    "X_test=scale.transform(X_test)"
   ]
  },
  {
   "cell_type": "code",
   "execution_count": 85,
   "metadata": {},
   "outputs": [],
   "source": [
    "#Creating a random model for baseline value\n",
    "def random_pred(df):\n",
    "    return random.choice([0,1,2,3,4,5,6])\n",
    "Y_rand_pred=pd.DataFrame(X_train).apply(random_pred,axis=1)"
   ]
  },
  {
   "cell_type": "code",
   "execution_count": 86,
   "metadata": {},
   "outputs": [
    {
     "name": "stdout",
     "output_type": "stream",
     "text": [
      "Accuracy of Random predictory: 0.14265927977839335\n"
     ]
    }
   ],
   "source": [
    "#Let's see the accuracy of random model\n",
    "acc_rand=accuracy_score(Y_train,Y_rand_pred)\n",
    "print(\"Accuracy of Random predictory:\",acc_rand)"
   ]
  },
  {
   "cell_type": "markdown",
   "metadata": {},
   "source": [
    "* So now we know that our models needs to outperform atleast this score"
   ]
  },
  {
   "cell_type": "code",
   "execution_count": 87,
   "metadata": {},
   "outputs": [
    {
     "name": "stdout",
     "output_type": "stream",
     "text": [
      "Accuracy of logistic regression on train set: 0.7621341683728773\n",
      "Accuracy of logistic regression on testing set: 0.7683044315992292\n"
     ]
    }
   ],
   "source": [
    "log_reg=LogisticRegression(multi_class='ovr')\n",
    "log_reg.fit(X_train,Y_train)\n",
    "Y_train_log=log_reg.predict(X_train)\n",
    "Y_test_log=log_reg.predict(X_test)\n",
    "acc_log_train=accuracy_score(Y_train,Y_train_log)\n",
    "acc_log_test=accuracy_score(Y_test,Y_test_log)\n",
    "print(\"Accuracy of logistic regression on train set:\",acc_log_train)\n",
    "print(\"Accuracy of logistic regression on testing set:\",acc_log_test)"
   ]
  },
  {
   "cell_type": "markdown",
   "metadata": {},
   "source": [
    "* Well! Not Bad!!"
   ]
  },
  {
   "cell_type": "code",
   "execution_count": 88,
   "metadata": {},
   "outputs": [
    {
     "name": "stdout",
     "output_type": "stream",
     "text": [
      "Accuracy of SVC on train set: 0.8335541370588944\n",
      "Accuracy of SVC on test set: 0.8005780346820809\n"
     ]
    }
   ],
   "source": [
    "#Training it on SVC\n",
    "svc=OneVsRestClassifier(SVC()).fit(X_train,Y_train)\n",
    "Y_train_svc=svc.predict(X_train)\n",
    "Y_test_svc=svc.predict(X_test)\n",
    "acc_svc_train=accuracy_score(Y_train,Y_train_svc)\n",
    "acc_svc_test=accuracy_score(Y_test,Y_test_svc)\n",
    "print(\"Accuracy of SVC on train set:\",acc_svc_train)\n",
    "print(\"Accuracy of SVC on test set:\",acc_svc_test)"
   ]
  },
  {
   "cell_type": "markdown",
   "metadata": {},
   "source": [
    "* Yo! This seems to be even better"
   ]
  },
  {
   "cell_type": "code",
   "execution_count": 89,
   "metadata": {},
   "outputs": [
    {
     "name": "stdout",
     "output_type": "stream",
     "text": [
      "Accuracy of RF on train set: 0.993436107431049\n",
      "Accuracy of RF on test set: 0.8672928709055877\n"
     ]
    }
   ],
   "source": [
    "rf=RandomForestClassifier(n_estimators=10,random_state=0,oob_score=True)\n",
    "rf.fit(X_train,Y_train)\n",
    "Y_train_rf=rf.predict(X_train)\n",
    "Y_test_rf=rf.predict(X_test)\n",
    "acc_rf_train=accuracy_score(Y_train,Y_train_rf)\n",
    "acc_rf_test=accuracy_score(Y_test,Y_test_rf)\n",
    "print(\"Accuracy of RF on train set:\",acc_rf_train)\n",
    "print(\"Accuracy of RF on test set:\",acc_rf_test)"
   ]
  },
  {
   "cell_type": "code",
   "execution_count": 90,
   "metadata": {},
   "outputs": [
    {
     "data": {
      "text/plain": [
       "Target\n",
       "4    4046\n",
       "3    3248\n",
       "1    3082\n",
       "2    2910\n",
       "0    2523\n",
       "6    2522\n",
       "5    2427\n",
       "Name: count, dtype: int64"
      ]
     },
     "execution_count": 90,
     "metadata": {},
     "output_type": "execute_result"
    }
   ],
   "source": [
    "Y.value_counts()"
   ]
  },
  {
   "cell_type": "code",
   "execution_count": 95,
   "metadata": {},
   "outputs": [
    {
     "data": {
      "text/plain": [
       "21"
      ]
     },
     "execution_count": 95,
     "metadata": {},
     "output_type": "execute_result"
    }
   ],
   "source": [
    "len(X_train[0])"
   ]
  },
  {
   "cell_type": "markdown",
   "metadata": {},
   "source": [
    "#### Clearly this is overfitting"
   ]
  },
  {
   "cell_type": "markdown",
   "metadata": {},
   "source": [
    "#### How about using Boosting techniques: Let's see for XGBoost"
   ]
  },
  {
   "cell_type": "code",
   "execution_count": 91,
   "metadata": {},
   "outputs": [
    {
     "name": "stdout",
     "output_type": "stream",
     "text": [
      "Accuracy of XGB on train set: 0.8986510899674817\n",
      "Accuracy of XGB on test set: 0.884393063583815\n"
     ]
    }
   ],
   "source": [
    "xgb_clf=xgb.XGBClassifier(objective=\"multi:softmax\",max_depth=3,n_estimators=60).fit(X_train,Y_train)\n",
    "Y_train_xgb=xgb_clf.predict(X_train)\n",
    "Y_test_xgb=xgb_clf.predict(X_test)\n",
    "acc_xgb_train=accuracy_score(Y_train,Y_train_xgb)\n",
    "acc_xgb_test=accuracy_score(Y_test,Y_test_xgb)\n",
    "print(\"Accuracy of XGB on train set:\",acc_xgb_train)\n",
    "print(\"Accuracy of XGB on test set:\",acc_xgb_test)"
   ]
  },
  {
   "cell_type": "markdown",
   "metadata": {},
   "source": [
    "#### Woah! it improved"
   ]
  },
  {
   "cell_type": "code",
   "execution_count": 98,
   "metadata": {},
   "outputs": [
    {
     "name": "stdout",
     "output_type": "stream",
     "text": [
      "Epoch 1/50\n",
      "333/333 [==============================] - 4s 8ms/step - loss: 1.2547 - accuracy: 0.5208 - val_loss: 0.8334 - val_accuracy: 0.6676\n",
      "Epoch 2/50\n",
      "333/333 [==============================] - 2s 5ms/step - loss: 0.7156 - accuracy: 0.7247 - val_loss: 0.6042 - val_accuracy: 0.7688\n",
      "Epoch 3/50\n",
      "333/333 [==============================] - 2s 5ms/step - loss: 0.5603 - accuracy: 0.7909 - val_loss: 0.4945 - val_accuracy: 0.8237\n",
      "Epoch 4/50\n",
      "333/333 [==============================] - 2s 5ms/step - loss: 0.4950 - accuracy: 0.8212 - val_loss: 0.4531 - val_accuracy: 0.8382\n",
      "Epoch 5/50\n",
      "333/333 [==============================] - 2s 5ms/step - loss: 0.4653 - accuracy: 0.8363 - val_loss: 0.4359 - val_accuracy: 0.8430\n",
      "Epoch 6/50\n",
      "333/333 [==============================] - 2s 5ms/step - loss: 0.4496 - accuracy: 0.8428 - val_loss: 0.4193 - val_accuracy: 0.8531\n",
      "Epoch 7/50\n",
      "333/333 [==============================] - 2s 5ms/step - loss: 0.4393 - accuracy: 0.8465 - val_loss: 0.4125 - val_accuracy: 0.8548\n",
      "Epoch 8/50\n",
      "333/333 [==============================] - 2s 5ms/step - loss: 0.4317 - accuracy: 0.8496 - val_loss: 0.4127 - val_accuracy: 0.8502\n",
      "Epoch 9/50\n",
      "333/333 [==============================] - 2s 5ms/step - loss: 0.4267 - accuracy: 0.8528 - val_loss: 0.4100 - val_accuracy: 0.8555\n",
      "Epoch 10/50\n",
      "333/333 [==============================] - 2s 5ms/step - loss: 0.4217 - accuracy: 0.8552 - val_loss: 0.4032 - val_accuracy: 0.8569\n",
      "Epoch 11/50\n",
      "333/333 [==============================] - 2s 5ms/step - loss: 0.4175 - accuracy: 0.8557 - val_loss: 0.4002 - val_accuracy: 0.8586\n",
      "Epoch 12/50\n",
      "333/333 [==============================] - 2s 5ms/step - loss: 0.4143 - accuracy: 0.8569 - val_loss: 0.3981 - val_accuracy: 0.8589\n",
      "Epoch 13/50\n",
      "333/333 [==============================] - 2s 5ms/step - loss: 0.4113 - accuracy: 0.8590 - val_loss: 0.3942 - val_accuracy: 0.8605\n",
      "Epoch 14/50\n",
      "333/333 [==============================] - 2s 5ms/step - loss: 0.4084 - accuracy: 0.8599 - val_loss: 0.4082 - val_accuracy: 0.8519\n",
      "Epoch 15/50\n",
      "333/333 [==============================] - 2s 5ms/step - loss: 0.4064 - accuracy: 0.8605 - val_loss: 0.3958 - val_accuracy: 0.8567\n",
      "Epoch 16/50\n",
      "333/333 [==============================] - 2s 5ms/step - loss: 0.4043 - accuracy: 0.8604 - val_loss: 0.3999 - val_accuracy: 0.8598\n",
      "Epoch 17/50\n",
      "333/333 [==============================] - 2s 5ms/step - loss: 0.4019 - accuracy: 0.8611 - val_loss: 0.3993 - val_accuracy: 0.8560\n",
      "Epoch 18/50\n",
      "333/333 [==============================] - 2s 5ms/step - loss: 0.4014 - accuracy: 0.8607 - val_loss: 0.3895 - val_accuracy: 0.8589\n",
      "Epoch 19/50\n",
      "333/333 [==============================] - 2s 5ms/step - loss: 0.3983 - accuracy: 0.8623 - val_loss: 0.3930 - val_accuracy: 0.8579\n",
      "Epoch 20/50\n",
      "333/333 [==============================] - 2s 5ms/step - loss: 0.3970 - accuracy: 0.8648 - val_loss: 0.3960 - val_accuracy: 0.8577\n",
      "Epoch 21/50\n",
      "333/333 [==============================] - 2s 5ms/step - loss: 0.3953 - accuracy: 0.8641 - val_loss: 0.3930 - val_accuracy: 0.8596\n",
      "Epoch 22/50\n",
      "333/333 [==============================] - 2s 5ms/step - loss: 0.3939 - accuracy: 0.8633 - val_loss: 0.3915 - val_accuracy: 0.8618\n",
      "Epoch 23/50\n",
      "333/333 [==============================] - 2s 5ms/step - loss: 0.3928 - accuracy: 0.8649 - val_loss: 0.3960 - val_accuracy: 0.8596\n",
      "Epoch 24/50\n",
      "333/333 [==============================] - 2s 5ms/step - loss: 0.3916 - accuracy: 0.8652 - val_loss: 0.3869 - val_accuracy: 0.8651\n",
      "Epoch 25/50\n",
      "333/333 [==============================] - 2s 5ms/step - loss: 0.3898 - accuracy: 0.8649 - val_loss: 0.3912 - val_accuracy: 0.8601\n",
      "Epoch 26/50\n",
      "333/333 [==============================] - 2s 5ms/step - loss: 0.3887 - accuracy: 0.8655 - val_loss: 0.3886 - val_accuracy: 0.8622\n",
      "Epoch 27/50\n",
      "333/333 [==============================] - 2s 5ms/step - loss: 0.3881 - accuracy: 0.8649 - val_loss: 0.3878 - val_accuracy: 0.8625\n",
      "Epoch 28/50\n",
      "333/333 [==============================] - 2s 6ms/step - loss: 0.3859 - accuracy: 0.8673 - val_loss: 0.3860 - val_accuracy: 0.8649\n",
      "Epoch 29/50\n",
      "333/333 [==============================] - 1s 4ms/step - loss: 0.3855 - accuracy: 0.8670 - val_loss: 0.3866 - val_accuracy: 0.8627\n",
      "Epoch 30/50\n",
      "333/333 [==============================] - 2s 5ms/step - loss: 0.3841 - accuracy: 0.8676 - val_loss: 0.3877 - val_accuracy: 0.8649\n",
      "Epoch 31/50\n",
      "333/333 [==============================] - 2s 5ms/step - loss: 0.3831 - accuracy: 0.8672 - val_loss: 0.3933 - val_accuracy: 0.8661\n",
      "Epoch 32/50\n",
      "333/333 [==============================] - 2s 5ms/step - loss: 0.3825 - accuracy: 0.8675 - val_loss: 0.3844 - val_accuracy: 0.8654\n",
      "Epoch 33/50\n",
      "333/333 [==============================] - 2s 5ms/step - loss: 0.3806 - accuracy: 0.8679 - val_loss: 0.3929 - val_accuracy: 0.8627\n",
      "Epoch 34/50\n",
      "333/333 [==============================] - 2s 5ms/step - loss: 0.3809 - accuracy: 0.8679 - val_loss: 0.3878 - val_accuracy: 0.8697\n",
      "Epoch 35/50\n",
      "333/333 [==============================] - 2s 5ms/step - loss: 0.3804 - accuracy: 0.8685 - val_loss: 0.3942 - val_accuracy: 0.8632\n",
      "Epoch 36/50\n",
      "333/333 [==============================] - 2s 5ms/step - loss: 0.3793 - accuracy: 0.8679 - val_loss: 0.3867 - val_accuracy: 0.8680\n",
      "Epoch 37/50\n",
      "333/333 [==============================] - 2s 5ms/step - loss: 0.3786 - accuracy: 0.8685 - val_loss: 0.3883 - val_accuracy: 0.8658\n",
      "Epoch 38/50\n",
      "333/333 [==============================] - 2s 7ms/step - loss: 0.3775 - accuracy: 0.8684 - val_loss: 0.3876 - val_accuracy: 0.8666\n",
      "Epoch 39/50\n",
      "333/333 [==============================] - 3s 9ms/step - loss: 0.3761 - accuracy: 0.8703 - val_loss: 0.3864 - val_accuracy: 0.8675\n",
      "Epoch 40/50\n",
      "333/333 [==============================] - 3s 8ms/step - loss: 0.3757 - accuracy: 0.8692 - val_loss: 0.3852 - val_accuracy: 0.8699\n",
      "Epoch 41/50\n",
      "333/333 [==============================] - 2s 7ms/step - loss: 0.3754 - accuracy: 0.8693 - val_loss: 0.3951 - val_accuracy: 0.8658\n",
      "Epoch 42/50\n",
      "333/333 [==============================] - 2s 6ms/step - loss: 0.3755 - accuracy: 0.8693 - val_loss: 0.3886 - val_accuracy: 0.8673\n",
      "Epoch 43/50\n",
      "333/333 [==============================] - 2s 5ms/step - loss: 0.3736 - accuracy: 0.8729 - val_loss: 0.3856 - val_accuracy: 0.8668\n",
      "Epoch 44/50\n",
      "333/333 [==============================] - 2s 5ms/step - loss: 0.3736 - accuracy: 0.8692 - val_loss: 0.3873 - val_accuracy: 0.8656\n",
      "Epoch 45/50\n",
      "333/333 [==============================] - 2s 5ms/step - loss: 0.3720 - accuracy: 0.8714 - val_loss: 0.3919 - val_accuracy: 0.8658\n",
      "Epoch 46/50\n",
      "333/333 [==============================] - 3s 9ms/step - loss: 0.3721 - accuracy: 0.8699 - val_loss: 0.3850 - val_accuracy: 0.8680\n",
      "Epoch 47/50\n",
      "333/333 [==============================] - 2s 5ms/step - loss: 0.3712 - accuracy: 0.8700 - val_loss: 0.3937 - val_accuracy: 0.8637\n",
      "Epoch 48/50\n",
      "333/333 [==============================] - 2s 5ms/step - loss: 0.3709 - accuracy: 0.8708 - val_loss: 0.3919 - val_accuracy: 0.8622\n",
      "Epoch 49/50\n",
      "333/333 [==============================] - 2s 7ms/step - loss: 0.3692 - accuracy: 0.8706 - val_loss: 0.3890 - val_accuracy: 0.8673\n",
      "Epoch 50/50\n",
      "333/333 [==============================] - 1s 4ms/step - loss: 0.3705 - accuracy: 0.8716 - val_loss: 0.3902 - val_accuracy: 0.8671\n"
     ]
    },
    {
     "data": {
      "text/plain": [
       "<keras.src.callbacks.History at 0x26490320b90>"
      ]
     },
     "execution_count": 98,
     "metadata": {},
     "output_type": "execute_result"
    }
   ],
   "source": [
    "### Time to call mighty ANN\n",
    "## Defining ann\n",
    "\n",
    "ann=Sequential()\n",
    "ann.add(Dense(units=21,activation='relu'))\n",
    "ann.add(Dense(units=21,activation='relu'))\n",
    "ann.add(Dense(units=7,activation='softmax'))\n",
    "\n",
    "#Compile the trained model\n",
    "ann.compile(optimizer='rmsprop',\n",
    "            loss='sparse_categorical_crossentropy',\n",
    "            metrics=['accuracy'])\n",
    "ann.fit(x=X_train,y=Y_train,epochs=50,batch_size=50,validation_data=(X_test,Y_test))\n"
   ]
  },
  {
   "cell_type": "code",
   "execution_count": 103,
   "metadata": {},
   "outputs": [
    {
     "name": "stdout",
     "output_type": "stream",
     "text": [
      "[LightGBM] [Info] Auto-choosing row-wise multi-threading, the overhead of testing was 0.002672 seconds.\n",
      "You can set `force_row_wise=true` to remove the overhead.\n",
      "And if memory is not enough, you can set `force_col_wise=true`.\n",
      "[LightGBM] [Info] Total Bins 1780\n",
      "[LightGBM] [Info] Number of data points in the train set: 16606, number of used features: 21\n",
      "[LightGBM] [Info] Start training from score -2.112625\n",
      "[LightGBM] [Info] Start training from score -1.893473\n",
      "[LightGBM] [Info] Start training from score -1.966474\n",
      "[LightGBM] [Info] Start training from score -1.857720\n",
      "[LightGBM] [Info] Start training from score -1.649430\n",
      "[LightGBM] [Info] Start training from score -2.137330\n",
      "[LightGBM] [Info] Start training from score -2.100252\n",
      "Accuracy of LightGBM on train set: 0.9654341804167168\n",
      "Accuracy of LightGBM on test set: 0.8892100192678227\n"
     ]
    }
   ],
   "source": [
    "## Let's try with LightGBM\n",
    "bgm=lgb.LGBMClassifier()\n",
    "bgm.fit(X_train,Y_train)\n",
    "Y_train_bgm=bgm.predict(X_train)\n",
    "Y_test_bgm=bgm.predict(X_test)\n",
    "acc_bgm_train=accuracy_score(Y_train,Y_train_bgm)\n",
    "acc_bgm_test=accuracy_score(Y_test,Y_test_bgm)\n",
    "print(\"Accuracy of LightGBM on train set:\",acc_bgm_train)\n",
    "print(\"Accuracy of LightGBM on test set:\",acc_bgm_test)"
   ]
  },
  {
   "cell_type": "code",
   "execution_count": 107,
   "metadata": {},
   "outputs": [
    {
     "data": {
      "text/plain": [
       "['../models/scaler.joblib']"
      ]
     },
     "execution_count": 107,
     "metadata": {},
     "output_type": "execute_result"
    }
   ],
   "source": [
    "#let's dump this models\n",
    "joblib.dump(xgb_clf,cfg.models+'xgb_clf.joblib')\n",
    "joblib.dump(ann,cfg.models+'ann.joblib')\n",
    "joblib.dump(bgm,cfg.models+'bgm.joblib')\n",
    "joblib.dump(scale,cfg.models+'scaler.joblib')"
   ]
  },
  {
   "cell_type": "code",
   "execution_count": null,
   "metadata": {},
   "outputs": [],
   "source": []
  }
 ],
 "metadata": {
  "kernelspec": {
   "display_name": "obesity",
   "language": "python",
   "name": "python3"
  },
  "language_info": {
   "codemirror_mode": {
    "name": "ipython",
    "version": 3
   },
   "file_extension": ".py",
   "mimetype": "text/x-python",
   "name": "python",
   "nbconvert_exporter": "python",
   "pygments_lexer": "ipython3",
   "version": "3.11.7"
  }
 },
 "nbformat": 4,
 "nbformat_minor": 2
}
