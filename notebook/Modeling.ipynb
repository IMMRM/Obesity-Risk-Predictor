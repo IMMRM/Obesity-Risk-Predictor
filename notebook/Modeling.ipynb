{
 "cells": [
  {
   "cell_type": "code",
   "execution_count": 5,
   "metadata": {},
   "outputs": [],
   "source": [
    "#Let's train some models on this data"
   ]
  },
  {
   "cell_type": "code",
   "execution_count": 6,
   "metadata": {},
   "outputs": [],
   "source": [
    "import pandas as pd\n",
    "import numpy as np\n",
    "import os\n",
    "import sys \n",
    "sys.path.append(os.path.dirname(os.getcwd()))\n",
    "import warnings\n",
    "import config as cfg\n",
    "from sklearn.linear_model import LogisticRegression #importing for Logistic regression\n",
    "from sklearn.svm import SVC\n",
    "from sklearn.multiclass import OneVsRestClassifier\n",
    "from sklearn.ensemble import RandomForestClassifier\n",
    "from sklearn.preprocessing import StandardScaler\n",
    "import xgboost as xgb\n",
    "from sklearn.model_selection import train_test_split\n",
    "import random\n",
    "import lightgbm as lgb\n",
    "from sklearn.metrics import accuracy_score\n",
    "import tensorflow as tf\n",
    "from tensorflow.keras.models import Sequential\n",
    "from tensorflow.keras.layers import Dense\n",
    "import joblib\n",
    "\n",
    "warnings.filterwarnings(\"ignore\")\n"
   ]
  },
  {
   "cell_type": "code",
   "execution_count": 7,
   "metadata": {},
   "outputs": [
    {
     "data": {
      "text/html": [
       "<div>\n",
       "<style scoped>\n",
       "    .dataframe tbody tr th:only-of-type {\n",
       "        vertical-align: middle;\n",
       "    }\n",
       "\n",
       "    .dataframe tbody tr th {\n",
       "        vertical-align: top;\n",
       "    }\n",
       "\n",
       "    .dataframe thead th {\n",
       "        text-align: right;\n",
       "    }\n",
       "</style>\n",
       "<table border=\"1\" class=\"dataframe\">\n",
       "  <thead>\n",
       "    <tr style=\"text-align: right;\">\n",
       "      <th></th>\n",
       "      <th>FCVC</th>\n",
       "      <th>NCP</th>\n",
       "      <th>CH2O</th>\n",
       "      <th>FAF</th>\n",
       "      <th>TUE</th>\n",
       "      <th>BMI</th>\n",
       "      <th>Target</th>\n",
       "      <th>Gender_Male</th>\n",
       "      <th>family_history_with_overweight_yes</th>\n",
       "      <th>FAVC_yes</th>\n",
       "      <th>...</th>\n",
       "      <th>CAEC_no</th>\n",
       "      <th>SMOKE_yes</th>\n",
       "      <th>SCC_yes</th>\n",
       "      <th>CALC_Sometimes</th>\n",
       "      <th>CALC_no</th>\n",
       "      <th>MTRANS_Bike</th>\n",
       "      <th>MTRANS_Motorbike</th>\n",
       "      <th>MTRANS_Public_Transportation</th>\n",
       "      <th>MTRANS_Walking</th>\n",
       "      <th>log_age</th>\n",
       "    </tr>\n",
       "  </thead>\n",
       "  <tbody>\n",
       "    <tr>\n",
       "      <th>0</th>\n",
       "      <td>2.000000</td>\n",
       "      <td>2.983297</td>\n",
       "      <td>2.763573</td>\n",
       "      <td>0.000000</td>\n",
       "      <td>0.976473</td>\n",
       "      <td>28.259565</td>\n",
       "      <td>6</td>\n",
       "      <td>1.0</td>\n",
       "      <td>1.0</td>\n",
       "      <td>1.0</td>\n",
       "      <td>...</td>\n",
       "      <td>0.0</td>\n",
       "      <td>0.0</td>\n",
       "      <td>0.0</td>\n",
       "      <td>1.0</td>\n",
       "      <td>0.0</td>\n",
       "      <td>0.0</td>\n",
       "      <td>0.0</td>\n",
       "      <td>1.0</td>\n",
       "      <td>0.0</td>\n",
       "      <td>3.196344</td>\n",
       "    </tr>\n",
       "    <tr>\n",
       "      <th>1</th>\n",
       "      <td>2.000000</td>\n",
       "      <td>3.000000</td>\n",
       "      <td>2.000000</td>\n",
       "      <td>1.000000</td>\n",
       "      <td>1.000000</td>\n",
       "      <td>23.422091</td>\n",
       "      <td>1</td>\n",
       "      <td>0.0</td>\n",
       "      <td>1.0</td>\n",
       "      <td>1.0</td>\n",
       "      <td>...</td>\n",
       "      <td>0.0</td>\n",
       "      <td>0.0</td>\n",
       "      <td>0.0</td>\n",
       "      <td>0.0</td>\n",
       "      <td>1.0</td>\n",
       "      <td>0.0</td>\n",
       "      <td>0.0</td>\n",
       "      <td>0.0</td>\n",
       "      <td>0.0</td>\n",
       "      <td>2.890372</td>\n",
       "    </tr>\n",
       "    <tr>\n",
       "      <th>2</th>\n",
       "      <td>1.880534</td>\n",
       "      <td>1.411685</td>\n",
       "      <td>1.910378</td>\n",
       "      <td>0.866045</td>\n",
       "      <td>1.673584</td>\n",
       "      <td>17.126706</td>\n",
       "      <td>0</td>\n",
       "      <td>0.0</td>\n",
       "      <td>1.0</td>\n",
       "      <td>1.0</td>\n",
       "      <td>...</td>\n",
       "      <td>0.0</td>\n",
       "      <td>0.0</td>\n",
       "      <td>0.0</td>\n",
       "      <td>0.0</td>\n",
       "      <td>1.0</td>\n",
       "      <td>0.0</td>\n",
       "      <td>0.0</td>\n",
       "      <td>1.0</td>\n",
       "      <td>0.0</td>\n",
       "      <td>2.890372</td>\n",
       "    </tr>\n",
       "    <tr>\n",
       "      <th>3</th>\n",
       "      <td>3.000000</td>\n",
       "      <td>3.000000</td>\n",
       "      <td>1.674061</td>\n",
       "      <td>1.467863</td>\n",
       "      <td>0.780199</td>\n",
       "      <td>44.855798</td>\n",
       "      <td>4</td>\n",
       "      <td>0.0</td>\n",
       "      <td>1.0</td>\n",
       "      <td>1.0</td>\n",
       "      <td>...</td>\n",
       "      <td>0.0</td>\n",
       "      <td>0.0</td>\n",
       "      <td>0.0</td>\n",
       "      <td>1.0</td>\n",
       "      <td>0.0</td>\n",
       "      <td>0.0</td>\n",
       "      <td>0.0</td>\n",
       "      <td>1.0</td>\n",
       "      <td>0.0</td>\n",
       "      <td>3.042269</td>\n",
       "    </tr>\n",
       "  </tbody>\n",
       "</table>\n",
       "<p>4 rows × 22 columns</p>\n",
       "</div>"
      ],
      "text/plain": [
       "       FCVC       NCP      CH2O       FAF       TUE        BMI  Target  \\\n",
       "0  2.000000  2.983297  2.763573  0.000000  0.976473  28.259565       6   \n",
       "1  2.000000  3.000000  2.000000  1.000000  1.000000  23.422091       1   \n",
       "2  1.880534  1.411685  1.910378  0.866045  1.673584  17.126706       0   \n",
       "3  3.000000  3.000000  1.674061  1.467863  0.780199  44.855798       4   \n",
       "\n",
       "   Gender_Male  family_history_with_overweight_yes  FAVC_yes  ...  CAEC_no  \\\n",
       "0          1.0                                 1.0       1.0  ...      0.0   \n",
       "1          0.0                                 1.0       1.0  ...      0.0   \n",
       "2          0.0                                 1.0       1.0  ...      0.0   \n",
       "3          0.0                                 1.0       1.0  ...      0.0   \n",
       "\n",
       "   SMOKE_yes  SCC_yes  CALC_Sometimes  CALC_no  MTRANS_Bike  MTRANS_Motorbike  \\\n",
       "0        0.0      0.0             1.0      0.0          0.0               0.0   \n",
       "1        0.0      0.0             0.0      1.0          0.0               0.0   \n",
       "2        0.0      0.0             0.0      1.0          0.0               0.0   \n",
       "3        0.0      0.0             1.0      0.0          0.0               0.0   \n",
       "\n",
       "   MTRANS_Public_Transportation  MTRANS_Walking   log_age  \n",
       "0                           1.0             0.0  3.196344  \n",
       "1                           0.0             0.0  2.890372  \n",
       "2                           1.0             0.0  2.890372  \n",
       "3                           1.0             0.0  3.042269  \n",
       "\n",
       "[4 rows x 22 columns]"
      ]
     },
     "execution_count": 7,
     "metadata": {},
     "output_type": "execute_result"
    }
   ],
   "source": [
    "#importing libraries\n",
    "data_df=pd.read_csv(cfg.input+\"pre_processed.csv\",index_col=0)\n",
    "data_df.head(4)"
   ]
  },
  {
   "cell_type": "code",
   "execution_count": 27,
   "metadata": {},
   "outputs": [
    {
     "name": "stdout",
     "output_type": "stream",
     "text": [
      "Index(['FCVC', 'NCP', 'CH2O', 'FAF', 'TUE', 'BMI', 'Gender_Male',\n",
      "       'family_history_with_overweight_yes', 'FAVC_yes', 'CAEC_Frequently',\n",
      "       'CAEC_Sometimes', 'CAEC_no', 'SMOKE_yes', 'SCC_yes', 'CALC_Sometimes',\n",
      "       'CALC_no', 'MTRANS_Bike', 'MTRANS_Motorbike',\n",
      "       'MTRANS_Public_Transportation', 'MTRANS_Walking', 'log_age'],\n",
      "      dtype='object')\n"
     ]
    }
   ],
   "source": [
    "#splitting the data\n",
    "scale=StandardScaler()\n",
    "X,Y=data_df.drop('Target',axis=1),data_df['Target']\n",
    "X_train,X_test,Y_train,Y_test=train_test_split(X,Y,test_size=0.2)\n",
    "X_train=scale.fit_transform(X_train)\n",
    "X_test=scale.transform(X_test)"
   ]
  },
  {
   "cell_type": "code",
   "execution_count": 9,
   "metadata": {},
   "outputs": [],
   "source": [
    "#Creating a random model for baseline value\n",
    "def random_pred(df):\n",
    "    return random.choice([0,1,2,3,4,5,6])\n",
    "Y_rand_pred=pd.DataFrame(X_train).apply(random_pred,axis=1)"
   ]
  },
  {
   "cell_type": "code",
   "execution_count": 10,
   "metadata": {},
   "outputs": [
    {
     "name": "stdout",
     "output_type": "stream",
     "text": [
      "Accuracy of Random predictory: 0.14530892448512586\n"
     ]
    }
   ],
   "source": [
    "#Let's see the accuracy of random model\n",
    "acc_rand=accuracy_score(Y_train,Y_rand_pred)\n",
    "print(\"Accuracy of Random predictory:\",acc_rand)"
   ]
  },
  {
   "cell_type": "markdown",
   "metadata": {},
   "source": [
    "* So now we know that our models needs to outperform atleast this score"
   ]
  },
  {
   "cell_type": "code",
   "execution_count": 11,
   "metadata": {},
   "outputs": [
    {
     "name": "stdout",
     "output_type": "stream",
     "text": [
      "Accuracy of logistic regression on train set: 0.7646633746838493\n",
      "Accuracy of logistic regression on testing set: 0.7639691714836223\n"
     ]
    }
   ],
   "source": [
    "log_reg=LogisticRegression(multi_class='ovr')\n",
    "log_reg.fit(X_train,Y_train)\n",
    "Y_train_log=log_reg.predict(X_train)\n",
    "Y_test_log=log_reg.predict(X_test)\n",
    "acc_log_train=accuracy_score(Y_train,Y_train_log)\n",
    "acc_log_test=accuracy_score(Y_test,Y_test_log)\n",
    "print(\"Accuracy of logistic regression on train set:\",acc_log_train)\n",
    "print(\"Accuracy of logistic regression on testing set:\",acc_log_test)"
   ]
  },
  {
   "cell_type": "markdown",
   "metadata": {},
   "source": [
    "* Well! Not Bad!!"
   ]
  },
  {
   "cell_type": "code",
   "execution_count": 12,
   "metadata": {},
   "outputs": [
    {
     "name": "stdout",
     "output_type": "stream",
     "text": [
      "Accuracy of SVC on train set: 0.8365650969529086\n",
      "Accuracy of SVC on test set: 0.7945568400770713\n"
     ]
    }
   ],
   "source": [
    "#Training it on SVC\n",
    "svc=OneVsRestClassifier(SVC()).fit(X_train,Y_train)\n",
    "Y_train_svc=svc.predict(X_train)\n",
    "Y_test_svc=svc.predict(X_test)\n",
    "acc_svc_train=accuracy_score(Y_train,Y_train_svc)\n",
    "acc_svc_test=accuracy_score(Y_test,Y_test_svc)\n",
    "print(\"Accuracy of SVC on train set:\",acc_svc_train)\n",
    "print(\"Accuracy of SVC on test set:\",acc_svc_test)"
   ]
  },
  {
   "cell_type": "markdown",
   "metadata": {},
   "source": [
    "* Yo! This seems to be even better"
   ]
  },
  {
   "cell_type": "code",
   "execution_count": 13,
   "metadata": {},
   "outputs": [
    {
     "name": "stdout",
     "output_type": "stream",
     "text": [
      "Accuracy of RF on train set: 0.9939178610140913\n",
      "Accuracy of RF on test set: 0.8607899807321773\n"
     ]
    }
   ],
   "source": [
    "rf=RandomForestClassifier(n_estimators=10,random_state=0,oob_score=True)\n",
    "rf.fit(X_train,Y_train)\n",
    "Y_train_rf=rf.predict(X_train)\n",
    "Y_test_rf=rf.predict(X_test)\n",
    "acc_rf_train=accuracy_score(Y_train,Y_train_rf)\n",
    "acc_rf_test=accuracy_score(Y_test,Y_test_rf)\n",
    "print(\"Accuracy of RF on train set:\",acc_rf_train)\n",
    "print(\"Accuracy of RF on test set:\",acc_rf_test)"
   ]
  },
  {
   "cell_type": "code",
   "execution_count": 14,
   "metadata": {},
   "outputs": [
    {
     "data": {
      "text/plain": [
       "Target\n",
       "4    4046\n",
       "3    3248\n",
       "1    3082\n",
       "2    2910\n",
       "0    2523\n",
       "6    2522\n",
       "5    2427\n",
       "Name: count, dtype: int64"
      ]
     },
     "execution_count": 14,
     "metadata": {},
     "output_type": "execute_result"
    }
   ],
   "source": [
    "Y.value_counts()"
   ]
  },
  {
   "cell_type": "code",
   "execution_count": 15,
   "metadata": {},
   "outputs": [
    {
     "data": {
      "text/plain": [
       "21"
      ]
     },
     "execution_count": 15,
     "metadata": {},
     "output_type": "execute_result"
    }
   ],
   "source": [
    "len(X_train[0])"
   ]
  },
  {
   "cell_type": "markdown",
   "metadata": {},
   "source": [
    "#### Clearly this is overfitting"
   ]
  },
  {
   "cell_type": "markdown",
   "metadata": {},
   "source": [
    "#### How about using Boosting techniques: Let's see for XGBoost"
   ]
  },
  {
   "cell_type": "code",
   "execution_count": 16,
   "metadata": {},
   "outputs": [
    {
     "name": "stdout",
     "output_type": "stream",
     "text": [
      "Accuracy of XGB on train set: 0.9007587618932916\n",
      "Accuracy of XGB on test set: 0.8819845857418112\n"
     ]
    }
   ],
   "source": [
    "xgb_clf=xgb.XGBClassifier(objective=\"multi:softmax\",max_depth=3,n_estimators=60).fit(X_train,Y_train)\n",
    "Y_train_xgb=xgb_clf.predict(X_train)\n",
    "Y_test_xgb=xgb_clf.predict(X_test)\n",
    "acc_xgb_train=accuracy_score(Y_train,Y_train_xgb)\n",
    "acc_xgb_test=accuracy_score(Y_test,Y_test_xgb)\n",
    "print(\"Accuracy of XGB on train set:\",acc_xgb_train)\n",
    "print(\"Accuracy of XGB on test set:\",acc_xgb_test)"
   ]
  },
  {
   "cell_type": "markdown",
   "metadata": {},
   "source": [
    "#### Woah! it improved"
   ]
  },
  {
   "cell_type": "code",
   "execution_count": 17,
   "metadata": {},
   "outputs": [
    {
     "name": "stdout",
     "output_type": "stream",
     "text": [
      "WARNING:tensorflow:From c:\\Users\\asus\\anaconda3\\envs\\obesity\\Lib\\site-packages\\keras\\src\\backend.py:873: The name tf.get_default_graph is deprecated. Please use tf.compat.v1.get_default_graph instead.\n",
      "\n",
      "WARNING:tensorflow:From c:\\Users\\asus\\anaconda3\\envs\\obesity\\Lib\\site-packages\\keras\\src\\optimizers\\__init__.py:309: The name tf.train.Optimizer is deprecated. Please use tf.compat.v1.train.Optimizer instead.\n",
      "\n",
      "Epoch 1/50\n",
      "WARNING:tensorflow:From c:\\Users\\asus\\anaconda3\\envs\\obesity\\Lib\\site-packages\\keras\\src\\utils\\tf_utils.py:492: The name tf.ragged.RaggedTensorValue is deprecated. Please use tf.compat.v1.ragged.RaggedTensorValue instead.\n",
      "\n",
      "WARNING:tensorflow:From c:\\Users\\asus\\anaconda3\\envs\\obesity\\Lib\\site-packages\\keras\\src\\engine\\base_layer_utils.py:384: The name tf.executing_eagerly_outside_functions is deprecated. Please use tf.compat.v1.executing_eagerly_outside_functions instead.\n",
      "\n",
      "333/333 [==============================] - 5s 7ms/step - loss: 1.2116 - accuracy: 0.5536 - val_loss: 0.8644 - val_accuracy: 0.6597\n",
      "Epoch 2/50\n",
      "333/333 [==============================] - 2s 6ms/step - loss: 0.7177 - accuracy: 0.7241 - val_loss: 0.6378 - val_accuracy: 0.7642\n",
      "Epoch 3/50\n",
      "333/333 [==============================] - 2s 5ms/step - loss: 0.5658 - accuracy: 0.7909 - val_loss: 0.5459 - val_accuracy: 0.8011\n",
      "Epoch 4/50\n",
      "333/333 [==============================] - 2s 5ms/step - loss: 0.4946 - accuracy: 0.8224 - val_loss: 0.4988 - val_accuracy: 0.8227\n",
      "Epoch 5/50\n",
      "333/333 [==============================] - 2s 6ms/step - loss: 0.4585 - accuracy: 0.8374 - val_loss: 0.4829 - val_accuracy: 0.8326\n",
      "Epoch 6/50\n",
      "333/333 [==============================] - 2s 5ms/step - loss: 0.4394 - accuracy: 0.8458 - val_loss: 0.4668 - val_accuracy: 0.8374\n",
      "Epoch 7/50\n",
      "333/333 [==============================] - 2s 5ms/step - loss: 0.4286 - accuracy: 0.8484 - val_loss: 0.4643 - val_accuracy: 0.8403\n",
      "Epoch 8/50\n",
      "333/333 [==============================] - 2s 5ms/step - loss: 0.4203 - accuracy: 0.8539 - val_loss: 0.4550 - val_accuracy: 0.8444\n",
      "Epoch 9/50\n",
      "333/333 [==============================] - 2s 5ms/step - loss: 0.4148 - accuracy: 0.8563 - val_loss: 0.4435 - val_accuracy: 0.8504\n",
      "Epoch 10/50\n",
      "333/333 [==============================] - 2s 5ms/step - loss: 0.4103 - accuracy: 0.8572 - val_loss: 0.4431 - val_accuracy: 0.8502\n",
      "Epoch 11/50\n",
      "333/333 [==============================] - 2s 5ms/step - loss: 0.4065 - accuracy: 0.8601 - val_loss: 0.4371 - val_accuracy: 0.8548\n",
      "Epoch 12/50\n",
      "333/333 [==============================] - 2s 5ms/step - loss: 0.4030 - accuracy: 0.8614 - val_loss: 0.4453 - val_accuracy: 0.8509\n",
      "Epoch 13/50\n",
      "333/333 [==============================] - 2s 5ms/step - loss: 0.4004 - accuracy: 0.8616 - val_loss: 0.4435 - val_accuracy: 0.8497\n",
      "Epoch 14/50\n",
      "333/333 [==============================] - 2s 5ms/step - loss: 0.3978 - accuracy: 0.8637 - val_loss: 0.4331 - val_accuracy: 0.8574\n",
      "Epoch 15/50\n",
      "333/333 [==============================] - 2s 5ms/step - loss: 0.3953 - accuracy: 0.8642 - val_loss: 0.4374 - val_accuracy: 0.8521\n",
      "Epoch 16/50\n",
      "333/333 [==============================] - 2s 5ms/step - loss: 0.3939 - accuracy: 0.8657 - val_loss: 0.4323 - val_accuracy: 0.8601\n",
      "Epoch 17/50\n",
      "333/333 [==============================] - 2s 5ms/step - loss: 0.3921 - accuracy: 0.8656 - val_loss: 0.4285 - val_accuracy: 0.8586\n",
      "Epoch 18/50\n",
      "333/333 [==============================] - 2s 5ms/step - loss: 0.3902 - accuracy: 0.8661 - val_loss: 0.4308 - val_accuracy: 0.8572\n",
      "Epoch 19/50\n",
      "333/333 [==============================] - 2s 5ms/step - loss: 0.3889 - accuracy: 0.8676 - val_loss: 0.4285 - val_accuracy: 0.8550\n",
      "Epoch 20/50\n",
      "333/333 [==============================] - 2s 5ms/step - loss: 0.3879 - accuracy: 0.8673 - val_loss: 0.4328 - val_accuracy: 0.8572\n",
      "Epoch 21/50\n",
      "333/333 [==============================] - 2s 5ms/step - loss: 0.3861 - accuracy: 0.8680 - val_loss: 0.4398 - val_accuracy: 0.8509\n",
      "Epoch 22/50\n",
      "333/333 [==============================] - 2s 5ms/step - loss: 0.3855 - accuracy: 0.8678 - val_loss: 0.4330 - val_accuracy: 0.8540\n",
      "Epoch 23/50\n",
      "333/333 [==============================] - 2s 5ms/step - loss: 0.3837 - accuracy: 0.8682 - val_loss: 0.4313 - val_accuracy: 0.8555\n",
      "Epoch 24/50\n",
      "333/333 [==============================] - 2s 6ms/step - loss: 0.3832 - accuracy: 0.8678 - val_loss: 0.4329 - val_accuracy: 0.8526\n",
      "Epoch 25/50\n",
      "333/333 [==============================] - 2s 6ms/step - loss: 0.3828 - accuracy: 0.8690 - val_loss: 0.4278 - val_accuracy: 0.8610\n",
      "Epoch 26/50\n",
      "333/333 [==============================] - 2s 5ms/step - loss: 0.3817 - accuracy: 0.8698 - val_loss: 0.4292 - val_accuracy: 0.8584\n",
      "Epoch 27/50\n",
      "333/333 [==============================] - 2s 6ms/step - loss: 0.3803 - accuracy: 0.8691 - val_loss: 0.4297 - val_accuracy: 0.8584\n",
      "Epoch 28/50\n",
      "333/333 [==============================] - 2s 7ms/step - loss: 0.3787 - accuracy: 0.8688 - val_loss: 0.4323 - val_accuracy: 0.8574\n",
      "Epoch 29/50\n",
      "333/333 [==============================] - 2s 5ms/step - loss: 0.3795 - accuracy: 0.8710 - val_loss: 0.4302 - val_accuracy: 0.8572\n",
      "Epoch 30/50\n",
      "333/333 [==============================] - 2s 5ms/step - loss: 0.3788 - accuracy: 0.8684 - val_loss: 0.4260 - val_accuracy: 0.8630\n",
      "Epoch 31/50\n",
      "333/333 [==============================] - 2s 5ms/step - loss: 0.3771 - accuracy: 0.8716 - val_loss: 0.4326 - val_accuracy: 0.8596\n",
      "Epoch 32/50\n",
      "333/333 [==============================] - 2s 6ms/step - loss: 0.3767 - accuracy: 0.8720 - val_loss: 0.4251 - val_accuracy: 0.8603\n",
      "Epoch 33/50\n",
      "333/333 [==============================] - 2s 5ms/step - loss: 0.3752 - accuracy: 0.8713 - val_loss: 0.4307 - val_accuracy: 0.8572\n",
      "Epoch 34/50\n",
      "333/333 [==============================] - 2s 5ms/step - loss: 0.3755 - accuracy: 0.8726 - val_loss: 0.4251 - val_accuracy: 0.8598\n",
      "Epoch 35/50\n",
      "333/333 [==============================] - 2s 5ms/step - loss: 0.3745 - accuracy: 0.8716 - val_loss: 0.4221 - val_accuracy: 0.8601\n",
      "Epoch 36/50\n",
      "333/333 [==============================] - 2s 5ms/step - loss: 0.3738 - accuracy: 0.8707 - val_loss: 0.4235 - val_accuracy: 0.8596\n",
      "Epoch 37/50\n",
      "333/333 [==============================] - 2s 5ms/step - loss: 0.3739 - accuracy: 0.8717 - val_loss: 0.4238 - val_accuracy: 0.8596\n",
      "Epoch 38/50\n",
      "333/333 [==============================] - 2s 5ms/step - loss: 0.3721 - accuracy: 0.8731 - val_loss: 0.4238 - val_accuracy: 0.8608\n",
      "Epoch 39/50\n",
      "333/333 [==============================] - 2s 5ms/step - loss: 0.3716 - accuracy: 0.8731 - val_loss: 0.4247 - val_accuracy: 0.8591\n",
      "Epoch 40/50\n",
      "333/333 [==============================] - 2s 5ms/step - loss: 0.3722 - accuracy: 0.8727 - val_loss: 0.4216 - val_accuracy: 0.8634\n",
      "Epoch 41/50\n",
      "333/333 [==============================] - 2s 5ms/step - loss: 0.3713 - accuracy: 0.8723 - val_loss: 0.4237 - val_accuracy: 0.8620\n",
      "Epoch 42/50\n",
      "333/333 [==============================] - 2s 5ms/step - loss: 0.3710 - accuracy: 0.8747 - val_loss: 0.4205 - val_accuracy: 0.8644\n",
      "Epoch 43/50\n",
      "333/333 [==============================] - 2s 5ms/step - loss: 0.3701 - accuracy: 0.8743 - val_loss: 0.4286 - val_accuracy: 0.8596\n",
      "Epoch 44/50\n",
      "333/333 [==============================] - 2s 5ms/step - loss: 0.3697 - accuracy: 0.8726 - val_loss: 0.4299 - val_accuracy: 0.8584\n",
      "Epoch 45/50\n",
      "333/333 [==============================] - 2s 5ms/step - loss: 0.3697 - accuracy: 0.8728 - val_loss: 0.4263 - val_accuracy: 0.8598\n",
      "Epoch 46/50\n",
      "333/333 [==============================] - 2s 5ms/step - loss: 0.3688 - accuracy: 0.8726 - val_loss: 0.4209 - val_accuracy: 0.8598\n",
      "Epoch 47/50\n",
      "333/333 [==============================] - 2s 5ms/step - loss: 0.3678 - accuracy: 0.8734 - val_loss: 0.4193 - val_accuracy: 0.8608\n",
      "Epoch 48/50\n",
      "333/333 [==============================] - 2s 5ms/step - loss: 0.3679 - accuracy: 0.8736 - val_loss: 0.4215 - val_accuracy: 0.8605\n",
      "Epoch 49/50\n",
      "333/333 [==============================] - 2s 5ms/step - loss: 0.3672 - accuracy: 0.8753 - val_loss: 0.4244 - val_accuracy: 0.8620\n",
      "Epoch 50/50\n",
      "333/333 [==============================] - 2s 5ms/step - loss: 0.3671 - accuracy: 0.8746 - val_loss: 0.4261 - val_accuracy: 0.8613\n"
     ]
    },
    {
     "data": {
      "text/plain": [
       "<keras.src.callbacks.History at 0x246f181dc10>"
      ]
     },
     "execution_count": 17,
     "metadata": {},
     "output_type": "execute_result"
    }
   ],
   "source": [
    "### Time to call mighty ANN\n",
    "## Defining ann\n",
    "\n",
    "ann=Sequential()\n",
    "ann.add(Dense(units=21,activation='relu'))\n",
    "ann.add(Dense(units=21,activation='relu'))\n",
    "ann.add(Dense(units=7,activation='softmax'))\n",
    "\n",
    "#Compile the trained model\n",
    "ann.compile(optimizer='rmsprop',\n",
    "            loss='sparse_categorical_crossentropy',\n",
    "            metrics=['accuracy'])\n",
    "ann.fit(x=X_train,y=Y_train,epochs=50,batch_size=50,validation_data=(X_test,Y_test))\n"
   ]
  },
  {
   "cell_type": "code",
   "execution_count": 18,
   "metadata": {},
   "outputs": [
    {
     "name": "stdout",
     "output_type": "stream",
     "text": [
      "[LightGBM] [Info] Auto-choosing row-wise multi-threading, the overhead of testing was 0.003807 seconds.\n",
      "You can set `force_row_wise=true` to remove the overhead.\n",
      "And if memory is not enough, you can set `force_col_wise=true`.\n",
      "[LightGBM] [Info] Total Bins 1786\n",
      "[LightGBM] [Info] Number of data points in the train set: 16606, number of used features: 21\n",
      "[LightGBM] [Info] Start training from score -2.114619\n",
      "[LightGBM] [Info] Start training from score -1.916947\n",
      "[LightGBM] [Info] Start training from score -1.957479\n",
      "[LightGBM] [Info] Start training from score -1.865469\n",
      "[LightGBM] [Info] Start training from score -1.621311\n",
      "[LightGBM] [Info] Start training from score -2.134272\n",
      "[LightGBM] [Info] Start training from score -2.118118\n",
      "Accuracy of LightGBM on train set: 0.96820426351921\n",
      "Accuracy of LightGBM on test set: 0.8795761078998073\n"
     ]
    }
   ],
   "source": [
    "## Let's try with LightGBM\n",
    "bgm=lgb.LGBMClassifier()\n",
    "bgm.fit(X_train,Y_train)\n",
    "Y_train_bgm=bgm.predict(X_train)\n",
    "Y_test_bgm=bgm.predict(X_test)\n",
    "acc_bgm_train=accuracy_score(Y_train,Y_train_bgm)\n",
    "acc_bgm_test=accuracy_score(Y_test,Y_test_bgm)\n",
    "print(\"Accuracy of LightGBM on train set:\",acc_bgm_train)\n",
    "print(\"Accuracy of LightGBM on test set:\",acc_bgm_test)"
   ]
  },
  {
   "cell_type": "code",
   "execution_count": 19,
   "metadata": {},
   "outputs": [
    {
     "data": {
      "text/plain": [
       "['../models/scaler.joblib']"
      ]
     },
     "execution_count": 19,
     "metadata": {},
     "output_type": "execute_result"
    }
   ],
   "source": [
    "#let's dump this models\n",
    "joblib.dump(xgb_clf,cfg.models+'xgb_clf.joblib')\n",
    "joblib.dump(ann,cfg.models+'ann.joblib')\n",
    "joblib.dump(bgm,cfg.models+'bgm.joblib')\n",
    "joblib.dump(scale,cfg.models+'scaler.joblib')"
   ]
  },
  {
   "cell_type": "code",
   "execution_count": null,
   "metadata": {},
   "outputs": [],
   "source": []
  }
 ],
 "metadata": {
  "kernelspec": {
   "display_name": "obesity",
   "language": "python",
   "name": "python3"
  },
  "language_info": {
   "codemirror_mode": {
    "name": "ipython",
    "version": 3
   },
   "file_extension": ".py",
   "mimetype": "text/x-python",
   "name": "python",
   "nbconvert_exporter": "python",
   "pygments_lexer": "ipython3",
   "version": "3.11.7"
  }
 },
 "nbformat": 4,
 "nbformat_minor": 2
}
